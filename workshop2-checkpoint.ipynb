{
 "cells": [
  {
   "cell_type": "code",
   "execution_count": 1,
   "id": "3e07ee90-4e06-4c01-ad08-19ff6a314c61",
   "metadata": {},
   "outputs": [
    {
     "name": "stdout",
     "output_type": "stream",
     "text": [
      "5 is positive\n"
     ]
    }
   ],
   "source": [
    "## Part 1: Conditional Statements\n",
    "### Basic if statement\n",
    "# Let's check if a number is positive, negative, or zero\n",
    "\n",
    "number = 5  # Try changing this value\n",
    "if number > 0:\n",
    "    print(f\"{number} is positive\")\n",
    "elif number < 0:\n",
    "    print(f\"{number} is negative\")\n",
    "else:\n",
    "    print(f\"{number} is zero\")"
   ]
  },
  {
   "cell_type": "code",
   "execution_count": 42,
   "id": "5dc988b4-576b-4127-b6da-b39fc38b56ea",
   "metadata": {},
   "outputs": [
    {
     "name": "stdout",
     "output_type": "stream",
     "text": [
      "Score: 95, Grade: A\n",
      "Score: 82, Grade: B\n",
      "Score: 71, Grade: C\n",
      "Score: 65, Grade: D\n",
      "Score: 55, Grade: F\n"
     ]
    }
   ],
   "source": [
    "### Exercise 1: Grade Calculator\n",
    "def calculate_grade(score):\n",
    "     if score >= 90:\n",
    "        return \"A\"\n",
    "     elif score >= 80:\n",
    "        return \"B\"\n",
    "     elif score >= 70:\n",
    "        return \"C\"\n",
    "     elif score >= 60:\n",
    "        return \"D\"\n",
    "     else:\n",
    "        return \"F\"\n",
    "\n",
    "test_scores = [95, 82, 71, 65, 55]\n",
    "for score in test_scores:\n",
    "      print(f\"Score: {score}, Grade: {calculate_grade(score)}\")"
   ]
  },
  {
   "cell_type": "code",
   "execution_count": 78,
   "id": "9d63f76d-f159-42d7-a1ba-861d83213efb",
   "metadata": {},
   "outputs": [
    {
     "name": "stdout",
     "output_type": "stream",
     "text": [
      "Original price: $50, Final price: $50.00\n",
      "Original price: $150, Final price: $135.00\n",
      "Original price: $600, Final price: $480.00\n",
      "Original price: $1200, Final price: $840.00\n"
     ]
    }
   ],
   "source": [
    "### Exercise 2: Discount Calculator\n",
    "def calculate_discount(purchase_amount):\n",
    "    if purchase_amount >= 1000:\n",
    "        discount = 0.30\n",
    "    elif purchase_amount >= 500:\n",
    "        discount = 0.20\n",
    "    elif purchase_amount >= 100:\n",
    "        discount = 0.10\n",
    "    else:\n",
    "        discount = 0.0\n",
    "    \n",
    "    final_price = purchase_amount * (1 - discount)\n",
    "    return final_price\n",
    "\n",
    "purchase_amounts = [50, 150, 600, 1200]\n",
    "for amount in purchase_amounts:\n",
    "    print(f\"Original price: ${amount}, Final price: ${calculate_discount(amount):.2f}\")"
   ]
  },
  {
   "cell_type": "code",
   "execution_count": 80,
   "id": "c35e5a1c-1745-4113-ac6e-44685167b983",
   "metadata": {},
   "outputs": [
    {
     "name": "stdout",
     "output_type": "stream",
     "text": [
      "Hello, Data Analyst!\n"
     ]
    }
   ],
   "source": [
    "## Part 2: Functions\n",
    "### Basic function definition\n",
    "def greet(name):\n",
    " \n",
    "  return f\"Hello, {name}!\"\n",
    "\n",
    "print(greet(\"Data Analyst\"))"
   ]
  },
  {
   "cell_type": "code",
   "execution_count": 81,
   "id": "a12f53cc-b0aa-40d3-bc79-d8b8a4fc8c93",
   "metadata": {},
   "outputs": [
    {
     "name": "stdout",
     "output_type": "stream",
     "text": [
      "0°C = 32.0°F\n",
      "25°C = 77.0°F\n",
      "37°C = 98.6°F\n",
      "100°C = 212.0°F\n"
     ]
    }
   ],
   "source": [
    "### Exercise 3: Temperature Converter\n",
    "# Write a function that converts temperature from Celsius to Fahrenheit\n",
    "def celsius_to_fahrenheit(celsius):\n",
    "    \n",
    "    fahrenheit = (celsius * 9/5) + 32  \n",
    "\n",
    "temperatures_c = [0, 25, 37, 100]\n",
    "for temp in temperatures_c:\n",
    "    print(f\"{temp}°C = {celsius_to_fahrenheit(temp):.1f}°F\")"
   ]
  },
  {
   "cell_type": "code",
   "execution_count": 82,
   "id": "6154c124-fc5d-4f82-b4e8-825ca29360f8",
   "metadata": {},
   "outputs": [
    {
     "name": "stdout",
     "output_type": "stream",
     "text": [
      "15\n",
      "5\n",
      "50\n",
      "2.0\n",
      "Error: Cannot divide by zero\n"
     ]
    }
   ],
   "source": [
    "### Exercise 4: Calculator Function\n",
    "# Write a function that takes two numbers and an operation as parameters\n",
    "# Supported operations: add, subtract, multiply, divide\n",
    "# Return the result of the operation\n",
    "\n",
    "def calculator(num1, num2, operation):\n",
    "\n",
    "        return num1 + num2\n",
    "    elif operation == \"subtract\":\n",
    "        return num1 - num2\n",
    "    elif operation == \"multiply\":\n",
    "        return num1 * num2\n",
    "    elif operation == \"divide\":\n",
    "        if num2 == 0:\n",
    "            return \"Error: Cannot divide by zero\"\n",
    "        else:\n",
    "            return num1 / num2\n",
    "    else:\n",
    "        return \"Error: Invalid operation\"\n",
    "\n",
    "print(calculator(10, 5, \"add\"))      \n",
    "print(calculator(10, 5, \"subtract\"))\n",
    "print(calculator(10, 5, \"multiply\")) \n",
    "print(calculator(10, 5, \"divide\"))   \n",
    "print(calculator(10, 0, \"divide\"))   "
   ]
  },
  {
   "cell_type": "code",
   "execution_count": 83,
   "id": "b0dfdf99-39f6-4f6c-9342-fce66846af10",
   "metadata": {},
   "outputs": [
    {
     "name": "stdout",
     "output_type": "stream",
     "text": [
      "Original list: ['apple', 'banana', 'cherry', 'date']\n",
      "First fruit: apple\n",
      "Last fruit: date\n",
      "After modification: ['apple', 'blueberry', 'cherry', 'date']\n",
      "After append: ['apple', 'blueberry', 'cherry', 'date', 'elderberry']\n",
      "Removed apple, List now: ['blueberry', 'cherry', 'date', 'elderberry']\n"
     ]
    }
   ],
   "source": [
    "## Part 3: Lists\n",
    "### Basic list operations\n",
    "\n",
    "fruits = [\"apple\", \"banana\", \"cherry\", \"date\"]\n",
    "print(\"Original list:\", fruits)\n",
    "\n",
    "# Accessing elements\n",
    "print(\"First fruit:\", fruits[0])\n",
    "print(\"Last fruit:\", fruits[-1])\n",
    "\n",
    "# Modifying the list\n",
    "fruits[1] = \"blueberry\"\n",
    "print(\"After modification:\", fruits)\n",
    "\n",
    "# Adding elements\n",
    "fruits.append(\"elderberry\")\n",
    "print(\"After append:\", fruits)\n",
    "\n",
    "# Removing elements\n",
    "removed_fruit = fruits.pop(0)\n",
    "print(f\"Removed {removed_fruit}, List now:\", fruits)"
   ]
  },
  {
   "cell_type": "code",
   "execution_count": 87,
   "id": "001d1b99-7e1d-4424-bd1a-03592777697f",
   "metadata": {},
   "outputs": [
    {
     "name": "stdout",
     "output_type": "stream",
     "text": [
      "Statistics: {'min': 5, 'max': 42, 'average': 17.666666666666668, 'sum': 106}\n"
     ]
    }
   ],
   "source": [
    "## Exercise 5: List Statistics\n",
    "# Write a function that takes a list of numbers and returns a dictionary with:\n",
    "# - The minimum value\n",
    "# - The maximum value\n",
    "# - The average value\n",
    "# - The sum of all values\n",
    "def calculate_statistics(numbers):\n",
    "   \n",
    "    minimum = min(numbers)  \n",
    "    maximum = max(numbers) \n",
    "    total_sum = sum(numbers)  \n",
    "    average = total_sum / len(numbers)\n",
    "\n",
    "    return {\n",
    "        \"min\": minimum,\n",
    "        \"max\": maximum,\n",
    "        \"average\": average,\n",
    "        \"sum\": total_sum\n",
    "    }\n",
    "\n",
    "test_numbers = [5, 12, 8, 42, 23, 16]\n",
    "stats = calculate_statistics(test_numbers)\n",
    "print(\"Statistics:\", stats)\n",
    "\n",
    "\n"
   ]
  },
  {
   "cell_type": "code",
   "execution_count": 88,
   "id": "665ab0b4-ebf6-475b-8016-55e09ff5f2d5",
   "metadata": {},
   "outputs": [
    {
     "name": "stdout",
     "output_type": "stream",
     "text": [
      "Even numbers: [2, 4, 6, 8, 10]\n"
     ]
    }
   ],
   "source": [
    "### Exercise 6: List Filtering\n",
    "# Write a function that takes a list of numbers and returns a new list containing only even numbers\n",
    "\n",
    "def filter_even_numbers(numbers):\n",
    "\n",
    "    even_numbers = []\n",
    "    for number in numbers:\n",
    "        if number % 2 == 0:\n",
    "            even_numbers.append(number)\n",
    "    return even_numbers\n",
    "\n",
    "numbers = [1, 2, 3, 4, 5, 6, 7, 8, 9, 10]\n",
    "even_numbers = filter_even_numbers(numbers)\n",
    "print(\"Even numbers:\", even_numbers)"
   ]
  },
  {
   "cell_type": "code",
   "execution_count": 92,
   "id": "f306d035-ce17-4251-b320-50fb670fea9e",
   "metadata": {},
   "outputs": [
    {
     "name": "stdout",
     "output_type": "stream",
     "text": [
      "Student info: {'name': 'Alex', 'age': 23, 'major': 'Data Science', 'gpa': 3.8}\n",
      "Name: Alex\n",
      "Major: Data Science\n",
      "Updated student info: {'name': 'Alex', 'age': 23, 'major': 'Data Science', 'gpa': 3.9, 'year': 'Senior'}\n",
      "Removed age: 23, Student info now: {'name': 'Alex', 'major': 'Data Science', 'gpa': 3.9, 'year': 'Senior'}\n"
     ]
    }
   ],
   "source": [
    "## Part 4: Dictionaries\n",
    "### Basic dictionary operations\n",
    "student = {\n",
    "    \"name\": \"Alex\",\n",
    "    \"age\": 23,\n",
    "    \"major\": \"Data Science\",\n",
    "    \"gpa\": 3.8\n",
    "}\n",
    "\n",
    "print(\"Student info:\", student)\n",
    "\n",
    "# Accessing values\n",
    "print(\"Name:\", student[\"name\"])\n",
    "print(\"Major:\", student.get(\"major\"))\n",
    "\n",
    "# Adding or modifying key-value pairs\n",
    "student[\"year\"] = \"Senior\"\n",
    "student[\"gpa\"] = 3.9\n",
    "print(\"Updated student info:\", student)\n",
    "\n",
    "# Removing key-value pairs\n",
    "removed_age = student.pop(\"age\")\n",
    "print(f\"Removed age: {removed_age}, Student info now:\", student)"
   ]
  },
  {
   "cell_type": "code",
   "execution_count": 91,
   "id": "f28dbc66-effa-4f48-8e2c-cbf8409683d0",
   "metadata": {},
   "outputs": [
    {
     "name": "stdout",
     "output_type": "stream",
     "text": [
      "Word counts: {'the': 4, 'quick': 2, 'brown': 1, 'fox': 2, 'jumps': 1, 'over': 1, 'lazy': 2, 'dog': 2, 'was': 2, 'and': 1}\n"
     ]
    }
   ],
   "source": [
    "### Exercise 7: Word Counter\n",
    "# Write a function that takes a string and returns a dictionary with each word as a key\n",
    "# and the number of occurrences as the value\n",
    "\n",
    "def count_words(text):\n",
    "   \n",
    "    word_count = {}\n",
    "    words = text.lower().split()\n",
    "    for word in words:\n",
    "        # Remove punctuation and convert to lowercase for accurate counting\n",
    "        cleaned_word = word.strip(\".,!?\").lower()\n",
    "        if cleaned_word:\n",
    "            word_count[cleaned_word] = word_count.get(cleaned_word, 0) + 1\n",
    "    return word_count\n",
    "\n",
    "sample_text = \"The quick brown fox jumps over the lazy dog. The fox was quick and the dog was lazy.\"\n",
    "word_counts = count_words(sample_text)\n",
    "print(\"Word counts:\", word_counts)"
   ]
  },
  {
   "cell_type": "code",
   "execution_count": 93,
   "id": "df8059f3-5851-4de9-a186-eb7d182b06e1",
   "metadata": {},
   "outputs": [
    {
     "name": "stdout",
     "output_type": "stream",
     "text": [
      "Contact Alice added.\n",
      "Contact Bob added.\n",
      "{'phone': '555-1234', 'email': 'alice@example.com'}\n",
      "Contact Alice updated.\n",
      "{'phone': '555-1234', 'email': 'alice.new@example.com'}\n",
      "Contact Charlie not found\n"
     ]
    }
   ],
   "source": [
    "### Exercise 8: Contact Manager\n",
    "# Create a small contact manager that lets you add, update, and retrieve contact information\n",
    "contact_book = {}\n",
    "\n",
    "def add_contact(name, phone, email=None):\n",
    "    \n",
    "    if name in contact_book:\n",
    "        return f\"Contact {name} already exists.\"  # Check if contact already exists\n",
    "    else:\n",
    "        contact_book[name] = {\"phone\": phone, \"email\": email}  # Add contact using name as key\n",
    "        return f\"Contact {name} added.\"\n",
    "\n",
    "def update_contact(name, phone=None, email=None):\n",
    "    \n",
    "    if name in contact_book:  # Check if contact exists\n",
    "        if phone is not None:\n",
    "            contact_book[name][\"phone\"] = phone  # Update phone if provided\n",
    "        if email is not None:\n",
    "            contact_book[name][\"email\"] = email  # Update email if provided\n",
    "        return f\"Contact {name} updated.\"\n",
    "    else:\n",
    "        return f\"Contact {name} not found.\"\n",
    "\n",
    "def get_contact(name):\n",
    "    \n",
    "    return contact_book.get(name, f\"Contact {name} not found\")  # Use .get() to retrieve contact\n",
    "\n",
    "print(add_contact(\"Alice\", \"555-1234\", \"alice@example.com\"))\n",
    "print(add_contact(\"Bob\", \"555-5678\"))\n",
    "print(get_contact(\"Alice\"))\n",
    "print(update_contact(\"Alice\", email=\"alice.new@example.com\"))\n",
    "print(get_contact(\"Alice\"))\n",
    "print(get_contact(\"Charlie\"))"
   ]
  },
  {
   "cell_type": "code",
   "execution_count": 94,
   "id": "08cdb3a4-b353-4e45-a7be-c90dc4a62ced",
   "metadata": {},
   "outputs": [
    {
     "name": "stdout",
     "output_type": "stream",
     "text": [
      "Iterating through a list:\n",
      "Color: red\n",
      "Color: green\n",
      "Color: blue\n",
      "Color: yellow\n",
      "\n",
      "Using range():\n",
      "Number: 0\n",
      "Number: 1\n",
      "Number: 2\n",
      "Number: 3\n",
      "Number: 4\n",
      "\n",
      "Using a while loop:\n",
      "Count: 0\n",
      "Count: 1\n",
      "Count: 2\n",
      "Count: 3\n",
      "Count: 4\n"
     ]
    }
   ],
   "source": [
    "## Part 5: Loops\n",
    "### For loop with a list\n",
    "print(\"Iterating through a list:\")\n",
    "colors = [\"red\", \"green\", \"blue\", \"yellow\"]\n",
    "for color in colors:\n",
    "    print(f\"Color: {color}\")\n",
    "\n",
    "### For loop with range\n",
    "print(\"\\nUsing range():\")\n",
    "for i in range(5):\n",
    "    print(f\"Number: {i}\")\n",
    "\n",
    "### While loop\n",
    "print(\"\\nUsing a while loop:\")\n",
    "count = 0\n",
    "while count < 5:\n",
    "    print(f\"Count: {count}\")\n",
    "    count += 1"
   ]
  },
  {
   "cell_type": "code",
   "execution_count": 98,
   "id": "73b8343e-3a14-4edf-a7c0-5d5200307920",
   "metadata": {},
   "outputs": [
    {
     "name": "stdout",
     "output_type": "stream",
     "text": [
      "Factorial of 0 = 1\n",
      "Factorial of 1 = 1\n",
      "Factorial of 2 = 2\n",
      "Factorial of 3 = 6\n",
      "Factorial of 4 = 24\n",
      "Factorial of 5 = 120\n"
     ]
    }
   ],
   "source": [
    "### Exercise 9: Factorial Calculator\n",
    "# Write a function that calculates the factorial of a number using a loop\n",
    "# Factorial of n = n * (n-1) * (n-2) * ... * 1\n",
    "def factorial(n):\n",
    "\n",
    "    if n < 0:\n",
    "        return 0  # Factorial is not defined for negative numbers\n",
    "    elif n == 0:\n",
    "        return 1  # Factorial of 0 is 1\n",
    "    else:\n",
    "        fact = 1\n",
    "        for i in range(1, n + 1):\n",
    "            fact *= i\n",
    "        return fact\n",
    "\n",
    "# Test your function\n",
    "for num in range(6):\n",
    "    print(f\"Factorial of {num} = {factorial(num)}\")"
   ]
  },
  {
   "cell_type": "code",
   "execution_count": 100,
   "id": "48069576-964c-4b77-a850-c302c098dd03",
   "metadata": {},
   "outputs": [
    {
     "name": "stdout",
     "output_type": "stream",
     "text": [
      "\n",
      "Student Analysis:\n",
      "Individual Averages:\n",
      "  Alice: 90.00\n",
      "  Bob: 86.50\n",
      "  Charlie: 94.00\n",
      "  David: 85.75\n",
      "Top Student: Charlie with average of 94.00\n"
     ]
    }
   ],
   "source": [
    "### Exercise 10: Data Analysis\n",
    "# You're given a list of dictionaries, each representing a student's score on different tests.\n",
    "# Calculate the average score for each student and identify the student with the highest average.\n",
    "import math\n",
    "\n",
    "students_data = [\n",
    "    {\"name\": \"Alice\", \"scores\": [88, 92, 95, 85]},\n",
    "    {\"name\": \"Bob\", \"scores\": [90, 87, 88, 81]},\n",
    "    {\"name\": \"Charlie\", \"scores\": [92, 95, 96, 93]},\n",
    "    {\"name\": \"David\", \"scores\": [78, 85, 91, 89]}\n",
    "]\n",
    "\n",
    "def analyze_student_scores(students):\n",
    "    individual_averages = {}\n",
    "    top_student = None\n",
    "    top_average = -1\n",
    "\n",
    "    for student in students:  # Iterate through the list of student dictionaries.\n",
    "        name = student[\"name\"]\n",
    "        scores = student[\"scores\"]\n",
    "        \n",
    "        # Calculate the sum of scores using sum() and the number of scores using len().\n",
    "        average_score = sum(scores) / len(scores)  \n",
    "        individual_averages[name] = average_score\n",
    "\n",
    "        if average_score > top_average: #  Find the maximum value in the dictionary and the corresponding key.\n",
    "            top_average = average_score\n",
    "            top_student = name\n",
    "\n",
    "    return {\n",
    "        \"individual_averages\": individual_averages,\n",
    "        \"top_student\": top_student,\n",
    "        \"top_average\": top_average\n",
    "    }\n",
    "\n",
    "analysis = analyze_student_scores(students_data)\n",
    "print(\"\\nStudent Analysis:\")\n",
    "print(\"Individual Averages:\")\n",
    "for name, avg in analysis[\"individual_averages\"].items():\n",
    "    print(f\"  {name}: {avg:.2f}\")\n",
    "print(f\"Top Student: {analysis['top_student']} with average of {analysis['top_average']:.2f}\")"
   ]
  },
  {
   "cell_type": "code",
   "execution_count": 102,
   "id": "421f7ff5-5ccb-4db4-9771-51e54bf6ffec",
   "metadata": {},
   "outputs": [
    {
     "name": "stdout",
     "output_type": "stream",
     "text": [
      "\n",
      "Sales Analysis:\n",
      "Monthly Sales:\n",
      "  Jan: $3030\n",
      "  Feb: $3420\n",
      "  Mar: $3580\n",
      "\n",
      "Category Sales:\n",
      "  Electronics: $4250\n",
      "  Books: $2550\n",
      "  Clothing: $3230\n",
      "\n",
      "Best Month: Mar with $3580\n",
      "Best Category: Electronics with $4250\n",
      "Total Sales: $10030\n"
     ]
    }
   ],
   "source": [
    "## Final Challenge: Sales Data Analysis\n",
    "# You're given a list of dictionaries representing monthly sales data for a store.\n",
    "# Each dictionary contains the month, category, and sales amount.\n",
    "sales_data = [\n",
    "    {\"month\": \"Jan\", \"category\": \"Electronics\", \"amount\": 1200},\n",
    "    {\"month\": \"Jan\", \"category\": \"Books\", \"amount\": 850},\n",
    "    {\"month\": \"Jan\", \"category\": \"Clothing\", \"amount\": 980},\n",
    "    {\"month\": \"Feb\", \"category\": \"Electronics\", \"amount\": 1450},\n",
    "    {\"month\": \"Feb\", \"category\": \"Books\", \"amount\": 920},\n",
    "    {\"month\": \"Feb\", \"category\": \"Clothing\", \"amount\": 1050},\n",
    "    {\"month\": \"Mar\", \"category\": \"Electronics\", \"amount\": 1600},\n",
    "    {\"month\": \"Mar\", \"category\": \"Books\", \"amount\": 780},\n",
    "    {\"month\": \"Mar\", \"category\": \"Clothing\", \"amount\": 1200}\n",
    "]\n",
    "\n",
    "def analyze_sales(sales):\n",
    "    monthly_sales = {}\n",
    "    category_sales = {}\n",
    "    \n",
    "    # Step 1 Calculate total sales per month\n",
    "    for sale in sales:\n",
    "        month = sale[\"month\"]\n",
    "        amount = sale[\"amount\"]\n",
    "        monthly_sales[month] = monthly_sales.get(month, 0) + amount\n",
    "    \n",
    "    # Step 2 Calculate total sales per category\n",
    "    for sale in sales:\n",
    "        category = sale[\"category\"]\n",
    "        amount = sale[\"amount\"]\n",
    "        category_sales[category] = category_sales.get(category, 0) + amount\n",
    "    \n",
    "    # Step 3 Find the best performing month and category\n",
    "    best_month = max(monthly_sales, key=monthly_sales.get)\n",
    "    best_category = max(category_sales, key=category_sales.get)\n",
    "        \n",
    "    # Step 4 Calculate overall total sales\n",
    "    total_sales = sum(monthly_sales.values())\n",
    "    \n",
    "    return {\n",
    "        \"monthly_sales\": monthly_sales,\n",
    "        \"category_sales\": category_sales,\n",
    "        \"best_month\": best_month,\n",
    "        \"best_category\": best_category,\n",
    "        \"total_sales\": total_sales\n",
    "    }\n",
    "\n",
    "# Test your analysis function\n",
    "sales_analysis = analyze_sales(sales_data)\n",
    "print(\"\\nSales Analysis:\")\n",
    "print(\"Monthly Sales:\")\n",
    "for month, amount in sales_analysis[\"monthly_sales\"].items():\n",
    "    print(f\"  {month}: ${amount}\")\n",
    "print(\"\\nCategory Sales:\")\n",
    "for category, amount in sales_analysis[\"category_sales\"].items():\n",
    "    print(f\"  {category}: ${amount}\")\n",
    "print(f\"\\nBest Month: {sales_analysis['best_month']} with ${sales_analysis['monthly_sales'][sales_analysis['best_month']]}\")\n",
    "print(f\"Best Category: {sales_analysis['best_category']} with ${sales_analysis['category_sales'][sales_analysis['best_category']]}\")\n",
    "print(f\"Total Sales: ${sales_analysis['total_sales']}\")"
   ]
  },
  {
   "cell_type": "code",
   "execution_count": null,
   "id": "c49c4372-c674-44e1-b1d7-a9c8e6ab8467",
   "metadata": {},
   "outputs": [],
   "source": []
  }
 ],
 "metadata": {
  "kernelspec": {
   "display_name": "Python 3 (ipykernel)",
   "language": "python",
   "name": "python3"
  },
  "language_info": {
   "codemirror_mode": {
    "name": "ipython",
    "version": 3
   },
   "file_extension": ".py",
   "mimetype": "text/x-python",
   "name": "python",
   "nbconvert_exporter": "python",
   "pygments_lexer": "ipython3",
   "version": "3.13.5"
  }
 },
 "nbformat": 4,
 "nbformat_minor": 5
}
