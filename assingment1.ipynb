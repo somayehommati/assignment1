{
 "cells": [
  {
   "cell_type": "code",
   "execution_count": null,
   "id": "67ac38f8-6696-4d9b-9e4f-2e19345a2f44",
   "metadata": {},
   "outputs": [],
   "source": [
    "# Task 1 variables and datatypes"
   ]
  },
  {
   "cell_type": "code",
   "execution_count": 24,
   "id": "d573a700-d9cf-4718-8414-955bf732448d",
   "metadata": {},
   "outputs": [],
   "source": [
    "int_var =50\n",
    "float_var = 2.5\n",
    "str_var = \"ario\"\n",
    "int_var = 10\n",
    "int_var = 9\n"
   ]
  },
  {
   "cell_type": "code",
   "execution_count": 25,
   "id": "09d02776-f978-4762-ba0d-dfc8e54a5cc8",
   "metadata": {},
   "outputs": [
    {
     "name": "stdout",
     "output_type": "stream",
     "text": [
      "9 <class 'int'>\n",
      "2.5 <class 'float'>\n",
      "ario <class 'str'>\n",
      "False\n"
     ]
    }
   ],
   "source": [
    "print(int_var, type(int_var))\n",
    "print(float_var, type(float_var))\n",
    "print(str_var, type(str_var))\n",
    "print(int_var < int_var)"
   ]
  },
  {
   "cell_type": "code",
   "execution_count": null,
   "id": "44f834b6-f81d-490d-8e6c-d42e73dc5017",
   "metadata": {},
   "outputs": [],
   "source": [
    "# Task 2 String Manipulation"
   ]
  },
  {
   "cell_type": "code",
   "execution_count": 32,
   "id": "7a09330e-9afa-4c6b-8b2c-8caad62f0e5a",
   "metadata": {},
   "outputs": [
    {
     "name": "stdout",
     "output_type": "stream",
     "text": [
      "hello everyone\n",
      "Hello world\n",
      "['Hello everyone']\n"
     ]
    }
   ],
   "source": [
    "new_string = \"Hello everyone\"\n",
    "print(new_string.lower())\n",
    "print(new_string.replace(\"everyone\", \"world\"))\n",
    "print(new_string.split(\",\"))"
   ]
  },
  {
   "cell_type": "code",
   "execution_count": null,
   "id": "2b4cc264-f0cd-4804-be13-7ba5016205e8",
   "metadata": {},
   "outputs": [],
   "source": [
    "#Task 3 Basic Operations"
   ]
  },
  {
   "cell_type": "code",
   "execution_count": 36,
   "id": "92258a9c-4c60-48df-8b06-c6e0d2719706",
   "metadata": {},
   "outputs": [
    {
     "name": "stdout",
     "output_type": "stream",
     "text": [
      "15 25 4.0 100 0 3200000\n",
      "True False False False True\n",
      "False False True\n"
     ]
    }
   ],
   "source": [
    "a, b = 20, 5\n",
    "print( a-b, a+b, a/b, a*b, a%b,a**b ) \n",
    "print(a>b, a<b, a==b, a<=b, a>=b)\n",
    "print(a>10 and b<4, a<4 or b>10, not a==b)"
   ]
  },
  {
   "cell_type": "code",
   "execution_count": null,
   "id": "e5fe952b-cae5-4534-94aa-570055a8dfe5",
   "metadata": {},
   "outputs": [],
   "source": [
    "# Task 4 Data Collection"
   ]
  },
  {
   "cell_type": "code",
   "execution_count": 53,
   "id": "2b154166-0f01-452b-bec1-a3638450b2e4",
   "metadata": {},
   "outputs": [
    {
     "name": "stdout",
     "output_type": "stream",
     "text": [
      "3\n",
      "jess\n",
      "30\n"
     ]
    }
   ],
   "source": [
    "my_list =(1, 2, 3,4)\n",
    "st_dict ={\"name\" : \"jess\", \"age\":18}\n",
    "my_tuple =(20, 30, 40)\n",
    "print(my_list[2])\n",
    "print(st_dict[\"name\"])\n",
    "print(my_tuple[1])"
   ]
  },
  {
   "cell_type": "code",
   "execution_count": null,
   "id": "8236e2fa-18b2-46db-b35f-1b225ea5df07",
   "metadata": {},
   "outputs": [],
   "source": [
    "# Task 5 Expression Combination"
   ]
  },
  {
   "cell_type": "code",
   "execution_count": 57,
   "id": "b5f355ba-18b7-4b9c-bfb4-8200c026c5cc",
   "metadata": {},
   "outputs": [
    {
     "name": "stdout",
     "output_type": "stream",
     "text": [
      "Final result: 15.5\n"
     ]
    }
   ],
   "source": [
    "result= (int_var * float_var )/ (a -b) + len(new_string)\n",
    "print(\"Final result:\", result)"
   ]
  },
  {
   "cell_type": "code",
   "execution_count": null,
   "id": "264a918b-1ab2-41c3-9b43-eaba50c9b757",
   "metadata": {},
   "outputs": [],
   "source": []
  }
 ],
 "metadata": {
  "kernelspec": {
   "display_name": "Python 3 (ipykernel)",
   "language": "python",
   "name": "python3"
  },
  "language_info": {
   "codemirror_mode": {
    "name": "ipython",
    "version": 3
   },
   "file_extension": ".py",
   "mimetype": "text/x-python",
   "name": "python",
   "nbconvert_exporter": "python",
   "pygments_lexer": "ipython3",
   "version": "3.13.5"
  }
 },
 "nbformat": 4,
 "nbformat_minor": 5
}
